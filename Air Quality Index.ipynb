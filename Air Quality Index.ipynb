{
 "cells": [
  {
   "cell_type": "code",
   "execution_count": 1,
   "metadata": {},
   "outputs": [],
   "source": [
    "import numpy as np\n",
    "import pandas as pd\n",
    "import matplotlib.pyplot as plt\n",
    "import seaborn as sns\n",
    "import os\n",
    "import warnings\n",
    "warnings.filterwarnings('ignore')"
   ]
  },
  {
   "cell_type": "code",
   "execution_count": 2,
   "metadata": {},
   "outputs": [],
   "source": [
    "os.chdir('E:\\\\prasad\\\\practice\\\\Deep Learning-29-12-20\\\\Air Quality Index')"
   ]
  },
  {
   "cell_type": "code",
   "execution_count": 3,
   "metadata": {},
   "outputs": [],
   "source": [
    "df=pd.read_csv('Real_Combine.csv')"
   ]
  },
  {
   "cell_type": "code",
   "execution_count": 4,
   "metadata": {},
   "outputs": [
    {
     "data": {
      "text/plain": [
       "(1093, 9)"
      ]
     },
     "execution_count": 4,
     "metadata": {},
     "output_type": "execute_result"
    }
   ],
   "source": [
    "df.shape"
   ]
  },
  {
   "cell_type": "code",
   "execution_count": 5,
   "metadata": {},
   "outputs": [
    {
     "data": {
      "text/html": [
       "<div>\n",
       "<style scoped>\n",
       "    .dataframe tbody tr th:only-of-type {\n",
       "        vertical-align: middle;\n",
       "    }\n",
       "\n",
       "    .dataframe tbody tr th {\n",
       "        vertical-align: top;\n",
       "    }\n",
       "\n",
       "    .dataframe thead th {\n",
       "        text-align: right;\n",
       "    }\n",
       "</style>\n",
       "<table border=\"1\" class=\"dataframe\">\n",
       "  <thead>\n",
       "    <tr style=\"text-align: right;\">\n",
       "      <th></th>\n",
       "      <th>T</th>\n",
       "      <th>TM</th>\n",
       "      <th>Tm</th>\n",
       "      <th>SLP</th>\n",
       "      <th>H</th>\n",
       "      <th>VV</th>\n",
       "      <th>V</th>\n",
       "      <th>VM</th>\n",
       "      <th>PM 2.5</th>\n",
       "    </tr>\n",
       "  </thead>\n",
       "  <tbody>\n",
       "    <tr>\n",
       "      <th>0</th>\n",
       "      <td>7.4</td>\n",
       "      <td>9.8</td>\n",
       "      <td>4.8</td>\n",
       "      <td>1017.6</td>\n",
       "      <td>93.0</td>\n",
       "      <td>0.5</td>\n",
       "      <td>4.3</td>\n",
       "      <td>9.4</td>\n",
       "      <td>219.720833</td>\n",
       "    </tr>\n",
       "    <tr>\n",
       "      <th>1</th>\n",
       "      <td>7.8</td>\n",
       "      <td>12.7</td>\n",
       "      <td>4.4</td>\n",
       "      <td>1018.5</td>\n",
       "      <td>87.0</td>\n",
       "      <td>0.6</td>\n",
       "      <td>4.4</td>\n",
       "      <td>11.1</td>\n",
       "      <td>182.187500</td>\n",
       "    </tr>\n",
       "  </tbody>\n",
       "</table>\n",
       "</div>"
      ],
      "text/plain": [
       "     T    TM   Tm     SLP     H   VV    V    VM      PM 2.5\n",
       "0  7.4   9.8  4.8  1017.6  93.0  0.5  4.3   9.4  219.720833\n",
       "1  7.8  12.7  4.4  1018.5  87.0  0.6  4.4  11.1  182.187500"
      ]
     },
     "execution_count": 5,
     "metadata": {},
     "output_type": "execute_result"
    }
   ],
   "source": [
    "df.head(2)"
   ]
  },
  {
   "cell_type": "code",
   "execution_count": 6,
   "metadata": {},
   "outputs": [
    {
     "data": {
      "text/plain": [
       "T         0\n",
       "TM        0\n",
       "Tm        0\n",
       "SLP       0\n",
       "H         0\n",
       "VV        0\n",
       "V         0\n",
       "VM        0\n",
       "PM 2.5    1\n",
       "dtype: int64"
      ]
     },
     "execution_count": 6,
     "metadata": {},
     "output_type": "execute_result"
    }
   ],
   "source": [
    "df.isnull().sum()"
   ]
  },
  {
   "cell_type": "code",
   "execution_count": 7,
   "metadata": {},
   "outputs": [],
   "source": [
    "df=df.dropna()"
   ]
  },
  {
   "cell_type": "code",
   "execution_count": 8,
   "metadata": {},
   "outputs": [
    {
     "data": {
      "text/plain": [
       "(1092, 9)"
      ]
     },
     "execution_count": 8,
     "metadata": {},
     "output_type": "execute_result"
    }
   ],
   "source": [
    "df.shape"
   ]
  },
  {
   "cell_type": "code",
   "execution_count": 9,
   "metadata": {},
   "outputs": [
    {
     "data": {
      "text/html": [
       "<div>\n",
       "<style scoped>\n",
       "    .dataframe tbody tr th:only-of-type {\n",
       "        vertical-align: middle;\n",
       "    }\n",
       "\n",
       "    .dataframe tbody tr th {\n",
       "        vertical-align: top;\n",
       "    }\n",
       "\n",
       "    .dataframe thead th {\n",
       "        text-align: right;\n",
       "    }\n",
       "</style>\n",
       "<table border=\"1\" class=\"dataframe\">\n",
       "  <thead>\n",
       "    <tr style=\"text-align: right;\">\n",
       "      <th></th>\n",
       "      <th>T</th>\n",
       "      <th>TM</th>\n",
       "      <th>Tm</th>\n",
       "      <th>SLP</th>\n",
       "      <th>H</th>\n",
       "      <th>VV</th>\n",
       "      <th>V</th>\n",
       "      <th>VM</th>\n",
       "      <th>PM 2.5</th>\n",
       "    </tr>\n",
       "  </thead>\n",
       "  <tbody>\n",
       "    <tr>\n",
       "      <th>0</th>\n",
       "      <td>7.4</td>\n",
       "      <td>9.8</td>\n",
       "      <td>4.8</td>\n",
       "      <td>1017.6</td>\n",
       "      <td>93.0</td>\n",
       "      <td>0.5</td>\n",
       "      <td>4.3</td>\n",
       "      <td>9.4</td>\n",
       "      <td>219.720833</td>\n",
       "    </tr>\n",
       "    <tr>\n",
       "      <th>1</th>\n",
       "      <td>7.8</td>\n",
       "      <td>12.7</td>\n",
       "      <td>4.4</td>\n",
       "      <td>1018.5</td>\n",
       "      <td>87.0</td>\n",
       "      <td>0.6</td>\n",
       "      <td>4.4</td>\n",
       "      <td>11.1</td>\n",
       "      <td>182.187500</td>\n",
       "    </tr>\n",
       "  </tbody>\n",
       "</table>\n",
       "</div>"
      ],
      "text/plain": [
       "     T    TM   Tm     SLP     H   VV    V    VM      PM 2.5\n",
       "0  7.4   9.8  4.8  1017.6  93.0  0.5  4.3   9.4  219.720833\n",
       "1  7.8  12.7  4.4  1018.5  87.0  0.6  4.4  11.1  182.187500"
      ]
     },
     "execution_count": 9,
     "metadata": {},
     "output_type": "execute_result"
    }
   ],
   "source": [
    "df.head(2)"
   ]
  },
  {
   "cell_type": "code",
   "execution_count": 10,
   "metadata": {},
   "outputs": [
    {
     "data": {
      "text/html": [
       "<div>\n",
       "<style scoped>\n",
       "    .dataframe tbody tr th:only-of-type {\n",
       "        vertical-align: middle;\n",
       "    }\n",
       "\n",
       "    .dataframe tbody tr th {\n",
       "        vertical-align: top;\n",
       "    }\n",
       "\n",
       "    .dataframe thead th {\n",
       "        text-align: right;\n",
       "    }\n",
       "</style>\n",
       "<table border=\"1\" class=\"dataframe\">\n",
       "  <thead>\n",
       "    <tr style=\"text-align: right;\">\n",
       "      <th></th>\n",
       "      <th>T</th>\n",
       "      <th>TM</th>\n",
       "      <th>Tm</th>\n",
       "      <th>SLP</th>\n",
       "      <th>H</th>\n",
       "      <th>VV</th>\n",
       "      <th>V</th>\n",
       "      <th>VM</th>\n",
       "    </tr>\n",
       "  </thead>\n",
       "  <tbody>\n",
       "    <tr>\n",
       "      <th>0</th>\n",
       "      <td>7.4</td>\n",
       "      <td>9.8</td>\n",
       "      <td>4.8</td>\n",
       "      <td>1017.6</td>\n",
       "      <td>93.0</td>\n",
       "      <td>0.5</td>\n",
       "      <td>4.3</td>\n",
       "      <td>9.4</td>\n",
       "    </tr>\n",
       "    <tr>\n",
       "      <th>1</th>\n",
       "      <td>7.8</td>\n",
       "      <td>12.7</td>\n",
       "      <td>4.4</td>\n",
       "      <td>1018.5</td>\n",
       "      <td>87.0</td>\n",
       "      <td>0.6</td>\n",
       "      <td>4.4</td>\n",
       "      <td>11.1</td>\n",
       "    </tr>\n",
       "  </tbody>\n",
       "</table>\n",
       "</div>"
      ],
      "text/plain": [
       "     T    TM   Tm     SLP     H   VV    V    VM\n",
       "0  7.4   9.8  4.8  1017.6  93.0  0.5  4.3   9.4\n",
       "1  7.8  12.7  4.4  1018.5  87.0  0.6  4.4  11.1"
      ]
     },
     "execution_count": 10,
     "metadata": {},
     "output_type": "execute_result"
    }
   ],
   "source": [
    "X=df.iloc[:,:-1]\n",
    "X.head(2)"
   ]
  },
  {
   "cell_type": "code",
   "execution_count": 11,
   "metadata": {},
   "outputs": [
    {
     "data": {
      "text/html": [
       "<div>\n",
       "<style scoped>\n",
       "    .dataframe tbody tr th:only-of-type {\n",
       "        vertical-align: middle;\n",
       "    }\n",
       "\n",
       "    .dataframe tbody tr th {\n",
       "        vertical-align: top;\n",
       "    }\n",
       "\n",
       "    .dataframe thead th {\n",
       "        text-align: right;\n",
       "    }\n",
       "</style>\n",
       "<table border=\"1\" class=\"dataframe\">\n",
       "  <thead>\n",
       "    <tr style=\"text-align: right;\">\n",
       "      <th></th>\n",
       "      <th>PM 2.5</th>\n",
       "    </tr>\n",
       "  </thead>\n",
       "  <tbody>\n",
       "    <tr>\n",
       "      <th>0</th>\n",
       "      <td>219.720833</td>\n",
       "    </tr>\n",
       "    <tr>\n",
       "      <th>1</th>\n",
       "      <td>182.187500</td>\n",
       "    </tr>\n",
       "  </tbody>\n",
       "</table>\n",
       "</div>"
      ],
      "text/plain": [
       "       PM 2.5\n",
       "0  219.720833\n",
       "1  182.187500"
      ]
     },
     "execution_count": 11,
     "metadata": {},
     "output_type": "execute_result"
    }
   ],
   "source": [
    "y=df.iloc[:,-1:]\n",
    "y.head(2)"
   ]
  },
  {
   "cell_type": "code",
   "execution_count": 12,
   "metadata": {},
   "outputs": [],
   "source": [
    "from sklearn.model_selection import train_test_split"
   ]
  },
  {
   "cell_type": "code",
   "execution_count": 13,
   "metadata": {},
   "outputs": [],
   "source": [
    "X_train,X_test,y_train,y_test=train_test_split(X,y,test_size=0.2,random_state=42)"
   ]
  },
  {
   "cell_type": "code",
   "execution_count": 14,
   "metadata": {},
   "outputs": [
    {
     "data": {
      "text/plain": [
       "((873, 8), (219, 8), (873, 1), (219, 1))"
      ]
     },
     "execution_count": 14,
     "metadata": {},
     "output_type": "execute_result"
    }
   ],
   "source": [
    "X_train.shape,X_test.shape,y_train.shape,y_test.shape"
   ]
  },
  {
   "cell_type": "code",
   "execution_count": 15,
   "metadata": {},
   "outputs": [],
   "source": [
    "import keras\n",
    "from keras.models import Sequential\n",
    "from keras.layers import Dense,Dropout"
   ]
  },
  {
   "cell_type": "code",
   "execution_count": 16,
   "metadata": {},
   "outputs": [],
   "source": [
    "model=Sequential()\n",
    "model.add(Dense(5,kernel_initializer='uniform',activation='relu',input_dim=8))\n",
    "model.add(Dense(5,kernel_initializer='uniform',activation='relu'))\n",
    "model.add(Dense(1,kernel_initializer='uniform',activation='linear'))"
   ]
  },
  {
   "cell_type": "code",
   "execution_count": 17,
   "metadata": {},
   "outputs": [],
   "source": [
    "model.compile('Adam',loss='mean_absolute_error',metrics=['mean_absolute_error'])"
   ]
  },
  {
   "cell_type": "code",
   "execution_count": 18,
   "metadata": {},
   "outputs": [
    {
     "name": "stdout",
     "output_type": "stream",
     "text": [
      "Epoch 1/100\n",
      "88/88 [==============================] - 1s 1ms/step - loss: 114.8956 - mean_absolute_error: 114.8956\n",
      "Epoch 2/100\n",
      "88/88 [==============================] - 0s 2ms/step - loss: 98.8952 - mean_absolute_error: 98.8952\n",
      "Epoch 3/100\n",
      "88/88 [==============================] - 0s 1ms/step - loss: 70.1531 - mean_absolute_error: 70.1531\n",
      "Epoch 4/100\n",
      "88/88 [==============================] - 0s 2ms/step - loss: 71.6335 - mean_absolute_error: 71.6335\n",
      "Epoch 5/100\n",
      "88/88 [==============================] - 0s 1ms/step - loss: 67.1006 - mean_absolute_error: 67.1006\n",
      "Epoch 6/100\n",
      "88/88 [==============================] - 0s 2ms/step - loss: 64.4616 - mean_absolute_error: 64.4616\n",
      "Epoch 7/100\n",
      "88/88 [==============================] - 0s 1ms/step - loss: 65.9893 - mean_absolute_error: 65.9893\n",
      "Epoch 8/100\n",
      "88/88 [==============================] - 0s 2ms/step - loss: 65.4083 - mean_absolute_error: 65.4083\n",
      "Epoch 9/100\n",
      "88/88 [==============================] - 0s 2ms/step - loss: 64.4847 - mean_absolute_error: 64.4846\n",
      "Epoch 10/100\n",
      "88/88 [==============================] - 0s 1ms/step - loss: 69.2442 - mean_absolute_error: 69.2442\n",
      "Epoch 11/100\n",
      "88/88 [==============================] - 0s 2ms/step - loss: 67.6225 - mean_absolute_error: 67.6225\n",
      "Epoch 12/100\n",
      "88/88 [==============================] - 0s 1ms/step - loss: 67.0338 - mean_absolute_error: 67.0338\n",
      "Epoch 13/100\n",
      "88/88 [==============================] - 0s 2ms/step - loss: 69.9004 - mean_absolute_error: 69.9004\n",
      "Epoch 14/100\n",
      "88/88 [==============================] - 0s 2ms/step - loss: 68.0373 - mean_absolute_error: 68.0373\n",
      "Epoch 15/100\n",
      "88/88 [==============================] - 0s 1ms/step - loss: 65.4435 - mean_absolute_error: 65.4435\n",
      "Epoch 16/100\n",
      "88/88 [==============================] - 0s 1ms/step - loss: 67.6812 - mean_absolute_error: 67.6812\n",
      "Epoch 17/100\n",
      "88/88 [==============================] - 0s 2ms/step - loss: 67.0197 - mean_absolute_error: 67.0197\n",
      "Epoch 18/100\n",
      "88/88 [==============================] - 0s 3ms/step - loss: 66.0120 - mean_absolute_error: 66.0120\n",
      "Epoch 19/100\n",
      "88/88 [==============================] - 0s 3ms/step - loss: 67.4038 - mean_absolute_error: 67.4038\n",
      "Epoch 20/100\n",
      "88/88 [==============================] - 0s 2ms/step - loss: 63.7217 - mean_absolute_error: 63.7217\n",
      "Epoch 21/100\n",
      "88/88 [==============================] - 0s 2ms/step - loss: 62.1013 - mean_absolute_error: 62.1013\n",
      "Epoch 22/100\n",
      "88/88 [==============================] - 0s 2ms/step - loss: 66.4866 - mean_absolute_error: 66.4866\n",
      "Epoch 23/100\n",
      "88/88 [==============================] - 0s 1ms/step - loss: 62.2372 - mean_absolute_error: 62.2372\n",
      "Epoch 24/100\n",
      "88/88 [==============================] - 0s 1ms/step - loss: 64.2426 - mean_absolute_error: 64.2426\n",
      "Epoch 25/100\n",
      "88/88 [==============================] - 0s 1ms/step - loss: 65.3372 - mean_absolute_error: 65.3372\n",
      "Epoch 26/100\n",
      "88/88 [==============================] - 0s 1ms/step - loss: 66.7783 - mean_absolute_error: 66.7784\n",
      "Epoch 27/100\n",
      "88/88 [==============================] - 0s 1ms/step - loss: 65.3598 - mean_absolute_error: 65.3598\n",
      "Epoch 28/100\n",
      "88/88 [==============================] - 0s 1ms/step - loss: 62.9977 - mean_absolute_error: 62.9977\n",
      "Epoch 29/100\n",
      "88/88 [==============================] - 0s 1ms/step - loss: 64.1499 - mean_absolute_error: 64.1499\n",
      "Epoch 30/100\n",
      "88/88 [==============================] - 0s 1ms/step - loss: 62.1795 - mean_absolute_error: 62.1795\n",
      "Epoch 31/100\n",
      "88/88 [==============================] - 0s 1ms/step - loss: 64.4784 - mean_absolute_error: 64.4784\n",
      "Epoch 32/100\n",
      "88/88 [==============================] - 0s 1ms/step - loss: 69.5649 - mean_absolute_error: 69.5649\n",
      "Epoch 33/100\n",
      "88/88 [==============================] - 0s 1ms/step - loss: 62.3567 - mean_absolute_error: 62.3567\n",
      "Epoch 34/100\n",
      "88/88 [==============================] - 0s 2ms/step - loss: 65.4279 - mean_absolute_error: 65.4279\n",
      "Epoch 35/100\n",
      "88/88 [==============================] - 0s 1ms/step - loss: 63.3615 - mean_absolute_error: 63.3615\n",
      "Epoch 36/100\n",
      "88/88 [==============================] - 0s 1ms/step - loss: 60.9618 - mean_absolute_error: 60.9618\n",
      "Epoch 37/100\n",
      "88/88 [==============================] - 0s 1ms/step - loss: 61.9143 - mean_absolute_error: 61.9143\n",
      "Epoch 38/100\n",
      "88/88 [==============================] - 0s 1ms/step - loss: 61.8170 - mean_absolute_error: 61.8170\n",
      "Epoch 39/100\n",
      "88/88 [==============================] - 0s 1ms/step - loss: 62.2281 - mean_absolute_error: 62.2281\n",
      "Epoch 40/100\n",
      "88/88 [==============================] - 0s 1ms/step - loss: 63.1019 - mean_absolute_error: 63.1019\n",
      "Epoch 41/100\n",
      "88/88 [==============================] - 0s 1ms/step - loss: 62.9363 - mean_absolute_error: 62.9363\n",
      "Epoch 42/100\n",
      "88/88 [==============================] - 0s 1ms/step - loss: 63.1558 - mean_absolute_error: 63.1558\n",
      "Epoch 43/100\n",
      "88/88 [==============================] - 0s 1ms/step - loss: 59.8796 - mean_absolute_error: 59.8796\n",
      "Epoch 44/100\n",
      "88/88 [==============================] - 0s 1ms/step - loss: 59.7656 - mean_absolute_error: 59.7656\n",
      "Epoch 45/100\n",
      "88/88 [==============================] - 0s 1ms/step - loss: 61.0891 - mean_absolute_error: 61.0891\n",
      "Epoch 46/100\n",
      "88/88 [==============================] - 0s 1ms/step - loss: 61.5915 - mean_absolute_error: 61.5915\n",
      "Epoch 47/100\n",
      "88/88 [==============================] - 0s 1ms/step - loss: 60.3859 - mean_absolute_error: 60.3859\n",
      "Epoch 48/100\n",
      "88/88 [==============================] - 0s 1ms/step - loss: 59.7155 - mean_absolute_error: 59.7155\n",
      "Epoch 49/100\n",
      "88/88 [==============================] - 0s 1ms/step - loss: 56.6760 - mean_absolute_error: 56.6760\n",
      "Epoch 50/100\n",
      "88/88 [==============================] - 0s 1ms/step - loss: 58.2337 - mean_absolute_error: 58.2337\n",
      "Epoch 51/100\n",
      "88/88 [==============================] - 0s 1ms/step - loss: 57.8600 - mean_absolute_error: 57.8600\n",
      "Epoch 52/100\n",
      "88/88 [==============================] - 0s 1ms/step - loss: 59.6254 - mean_absolute_error: 59.6254\n",
      "Epoch 53/100\n",
      "88/88 [==============================] - 0s 1ms/step - loss: 56.5704 - mean_absolute_error: 56.5704\n",
      "Epoch 54/100\n",
      "88/88 [==============================] - 0s 2ms/step - loss: 56.4822 - mean_absolute_error: 56.4822\n",
      "Epoch 55/100\n",
      "88/88 [==============================] - 0s 2ms/step - loss: 58.9210 - mean_absolute_error: 58.9210\n",
      "Epoch 56/100\n",
      "88/88 [==============================] - 0s 1ms/step - loss: 54.0023 - mean_absolute_error: 54.0023\n",
      "Epoch 57/100\n",
      "88/88 [==============================] - 0s 1ms/step - loss: 56.8524 - mean_absolute_error: 56.8524\n",
      "Epoch 58/100\n",
      "88/88 [==============================] - 0s 1ms/step - loss: 53.7500 - mean_absolute_error: 53.7500\n",
      "Epoch 59/100\n",
      "88/88 [==============================] - 0s 1ms/step - loss: 53.5460 - mean_absolute_error: 53.5460\n",
      "Epoch 60/100\n",
      "88/88 [==============================] - 0s 1ms/step - loss: 52.5024 - mean_absolute_error: 52.5024\n",
      "Epoch 61/100\n",
      "88/88 [==============================] - 0s 2ms/step - loss: 52.1177 - mean_absolute_error: 52.1177\n",
      "Epoch 62/100\n",
      "88/88 [==============================] - 0s 3ms/step - loss: 52.5137 - mean_absolute_error: 52.5137\n",
      "Epoch 63/100\n",
      "88/88 [==============================] - 0s 3ms/step - loss: 50.8669 - mean_absolute_error: 50.8669\n",
      "Epoch 64/100\n",
      "88/88 [==============================] - 0s 3ms/step - loss: 54.0090 - mean_absolute_error: 54.0090\n",
      "Epoch 65/100\n",
      "88/88 [==============================] - 0s 1ms/step - loss: 49.5504 - mean_absolute_error: 49.5504\n",
      "Epoch 66/100\n",
      "88/88 [==============================] - 0s 1ms/step - loss: 52.8155 - mean_absolute_error: 52.8155\n",
      "Epoch 67/100\n",
      "88/88 [==============================] - 0s 1ms/step - loss: 49.9330 - mean_absolute_error: 49.9330\n",
      "Epoch 68/100\n",
      "88/88 [==============================] - 0s 1ms/step - loss: 49.8651 - mean_absolute_error: 49.8651\n",
      "Epoch 69/100\n",
      "88/88 [==============================] - 0s 1ms/step - loss: 48.0896 - mean_absolute_error: 48.0896\n",
      "Epoch 70/100\n",
      "88/88 [==============================] - 0s 1ms/step - loss: 48.5531 - mean_absolute_error: 48.5531\n",
      "Epoch 71/100\n",
      "88/88 [==============================] - 0s 1ms/step - loss: 48.5998 - mean_absolute_error: 48.5998\n",
      "Epoch 72/100\n",
      "88/88 [==============================] - 0s 1ms/step - loss: 48.4610 - mean_absolute_error: 48.4610\n",
      "Epoch 73/100\n"
     ]
    },
    {
     "name": "stdout",
     "output_type": "stream",
     "text": [
      "88/88 [==============================] - 0s 1ms/step - loss: 49.6453 - mean_absolute_error: 49.6453\n",
      "Epoch 74/100\n",
      "88/88 [==============================] - 0s 1ms/step - loss: 47.1078 - mean_absolute_error: 47.1078\n",
      "Epoch 75/100\n",
      "88/88 [==============================] - 0s 1ms/step - loss: 47.7258 - mean_absolute_error: 47.7258\n",
      "Epoch 76/100\n",
      "88/88 [==============================] - 0s 1ms/step - loss: 45.6862 - mean_absolute_error: 45.6862\n",
      "Epoch 77/100\n",
      "88/88 [==============================] - 0s 1ms/step - loss: 48.0498 - mean_absolute_error: 48.0498\n",
      "Epoch 78/100\n",
      "88/88 [==============================] - 0s 1ms/step - loss: 48.5430 - mean_absolute_error: 48.5430\n",
      "Epoch 79/100\n",
      "88/88 [==============================] - 0s 1ms/step - loss: 46.0403 - mean_absolute_error: 46.0403\n",
      "Epoch 80/100\n",
      "88/88 [==============================] - 0s 1ms/step - loss: 47.8389 - mean_absolute_error: 47.8388\n",
      "Epoch 81/100\n",
      "88/88 [==============================] - 0s 1ms/step - loss: 46.6904 - mean_absolute_error: 46.6904\n",
      "Epoch 82/100\n",
      "88/88 [==============================] - 0s 1ms/step - loss: 46.3181 - mean_absolute_error: 46.3181\n",
      "Epoch 83/100\n",
      "88/88 [==============================] - 0s 1ms/step - loss: 46.7355 - mean_absolute_error: 46.7355\n",
      "Epoch 84/100\n",
      "88/88 [==============================] - 0s 1ms/step - loss: 46.5235 - mean_absolute_error: 46.5235\n",
      "Epoch 85/100\n",
      "88/88 [==============================] - 0s 1ms/step - loss: 45.3496 - mean_absolute_error: 45.3496\n",
      "Epoch 86/100\n",
      "88/88 [==============================] - 0s 1ms/step - loss: 49.7713 - mean_absolute_error: 49.7713\n",
      "Epoch 87/100\n",
      "88/88 [==============================] - 0s 1ms/step - loss: 47.5198 - mean_absolute_error: 47.5198\n",
      "Epoch 88/100\n",
      "88/88 [==============================] - 0s 1ms/step - loss: 46.7976 - mean_absolute_error: 46.7976\n",
      "Epoch 89/100\n",
      "88/88 [==============================] - 0s 1ms/step - loss: 47.4928 - mean_absolute_error: 47.4928\n",
      "Epoch 90/100\n",
      "88/88 [==============================] - 0s 1ms/step - loss: 44.4183 - mean_absolute_error: 44.4183\n",
      "Epoch 91/100\n",
      "88/88 [==============================] - 0s 1ms/step - loss: 47.4869 - mean_absolute_error: 47.4869\n",
      "Epoch 92/100\n",
      "88/88 [==============================] - 0s 1ms/step - loss: 47.7648 - mean_absolute_error: 47.7648\n",
      "Epoch 93/100\n",
      "88/88 [==============================] - 0s 1ms/step - loss: 47.2745 - mean_absolute_error: 47.2745\n",
      "Epoch 94/100\n",
      "88/88 [==============================] - 0s 1ms/step - loss: 46.0999 - mean_absolute_error: 46.0999\n",
      "Epoch 95/100\n",
      "88/88 [==============================] - 0s 1ms/step - loss: 47.0879 - mean_absolute_error: 47.0879\n",
      "Epoch 96/100\n",
      "88/88 [==============================] - 0s 1ms/step - loss: 46.7390 - mean_absolute_error: 46.7390\n",
      "Epoch 97/100\n",
      "88/88 [==============================] - 0s 1ms/step - loss: 46.0228 - mean_absolute_error: 46.0228\n",
      "Epoch 98/100\n",
      "88/88 [==============================] - 0s 1ms/step - loss: 45.7245 - mean_absolute_error: 45.7245\n",
      "Epoch 99/100\n",
      "88/88 [==============================] - 0s 1ms/step - loss: 48.0060 - mean_absolute_error: 48.0060\n",
      "Epoch 100/100\n",
      "88/88 [==============================] - 0s 1ms/step - loss: 46.5114 - mean_absolute_error: 46.5114\n"
     ]
    },
    {
     "data": {
      "text/plain": [
       "<tensorflow.python.keras.callbacks.History at 0x162ef3f4a60>"
      ]
     },
     "execution_count": 18,
     "metadata": {},
     "output_type": "execute_result"
    }
   ],
   "source": [
    "model.fit(X_train,y_train,batch_size=10,epochs=100)"
   ]
  },
  {
   "cell_type": "code",
   "execution_count": 19,
   "metadata": {},
   "outputs": [],
   "source": [
    "y_pred=model.predict(X_test)"
   ]
  },
  {
   "cell_type": "code",
   "execution_count": 22,
   "metadata": {},
   "outputs": [
    {
     "data": {
      "text/plain": [
       "<seaborn.axisgrid.FacetGrid at 0x162e81823a0>"
      ]
     },
     "execution_count": 22,
     "metadata": {},
     "output_type": "execute_result"
    },
    {
     "data": {
      "image/png": "[encoded data removed]",
      "text/plain": [
       "<Figure size 429.75x360 with 1 Axes>"
      ]
     },
     "metadata": {
      "needs_background": "light"
     },
     "output_type": "display_data"
    }
   ],
   "source": [
    "sns.displot(y_test-y_pred)"
   ]
  },
  {
   "cell_type": "code",
   "execution_count": 28,
   "metadata": {},
   "outputs": [
    {
     "data": {
      "image/png": "[encoded data removed]",
      "text/plain": [
       "<Figure size 432x288 with 1 Axes>"
      ]
     },
     "metadata": {
      "needs_background": "light"
     },
     "output_type": "display_data"
    }
   ],
   "source": [
    "plt.scatter(y_test,y_pred)\n",
    "plt.show()"
   ]
  },
  {
   "cell_type": "code",
   "execution_count": null,
   "metadata": {},
   "outputs": [],
   "source": []
  }
 ],
 "metadata": {
  "kernelspec": {
   "display_name": "Python 3",
   "language": "python",
   "name": "python3"
  },
  "language_info": {
   "codemirror_mode": {
    "name": "ipython",
    "version": 3
   },
   "file_extension": ".py",
   "mimetype": "text/x-python",
   "name": "python",
   "nbconvert_exporter": "python",
   "pygments_lexer": "ipython3",
   "version": "3.8.5"
  }
 },
 "nbformat": 4,
 "nbformat_minor": 4
}
